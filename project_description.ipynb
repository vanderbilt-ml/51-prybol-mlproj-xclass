{
  "nbformat": 4,
  "nbformat_minor": 0,
  "metadata": {
    "colab": {
      "name": "Untitled0.ipynb",
      "provenance": [],
      "collapsed_sections": [],
      "authorship_tag": "ABX9TyOLCpxpKWVi4hbzNbZ/OW+G",
      "include_colab_link": true
    },
    "kernelspec": {
      "name": "python3",
      "display_name": "Python 3"
    },
    "language_info": {
      "name": "python"
    }
  },
  "cells": [
    {
      "cell_type": "markdown",
      "metadata": {
        "id": "view-in-github",
        "colab_type": "text"
      },
      "source": [
        "<a href=\"https://colab.research.google.com/github/vanderbilt-ml/51-prybol-mlproj-xclass/blob/main/project_description.ipynb\" target=\"_parent\"><img src=\"https://colab.research.google.com/assets/colab-badge.svg\" alt=\"Open In Colab\"/></a>"
      ]
    },
    {
      "cell_type": "markdown",
      "source": [
        "# Proposed Project\n",
        "\n",
        "##Background\n",
        "I work as a data science executive for a healthcare technology company that offers predictive analytics, data augumentation, and warehousing for health insurance companies, provider networks, health systems, and large employer groups. As part of our offerings we have developed a robust set of validations that allow us to standardize and normalize data at massive scales. Most of these validations however, are rules and/or statistics based and their development requires significant effort from subject matter experts. With the long term goal of scaling beyond the limits of constrained resoures (SME effort) we have been seeking machine learning drive approachs that would allow us to algorithmically identify potential anomalies without a priori knowledge of what those anomalies may be. One potential validation would be to predict which diagnosis codes should appear on a medical claim based on the billed procedure codes and flag anomalous claims where the diagnosis codes do not match expectations. \n",
        "\n",
        "\n",
        "## Project Description\n",
        "Predicting diagnosis codes from procedure codes appears to be a straightfoward proposition, but the processs is deceivingy complex. With the switch to ICD-10, there are now more than 70,000 unique procedure codes or \"tokens\". This number grows even larger with the inclusion of the Current Procedural Terminology (CPT) code set (10,471 unqiue CPT codes). For reference, this combined vocabulary is nearly three times larger than the vocabularly used in Google's seminal natural language processing paper on BERT (Bidirectional Encoder Representations from Transformers). Each healthcare encounter can result in any number of unique procedure codes being billed. While the number of codes billed in a single claim or encounter is technically unlimited, a typical range is anywhere from 1 to 25. Given the large vocabulary and the variable length of codes billed to a single encounter, one common way to handle these complexities is by treating medical codes as \"words\" in a \"sentence\" or \"document\". \n",
        "\n",
        "Addtionally, the model target, in this case the complete set of ICD diagnosis codes, contains more than 69,000 unique values. While some of these tokens are are quite common, others are exceedingly rare. Any loss function used during model training need to take into account the relative prevalences of these codes. It stands to reason that the more rare the code in the target set, the more imporant it may be to any anomaly detection engine. \n",
        "\n",
        "Extreme multi-label classification (XMC) is the problem of finding the relevant labels for an input, from a very large universe of possible labels. XMC is a natural fit for this project given the scope of the target. As a result, this project will borrow heavily from the fields of natural language processing and XMC.  \n",
        "\n",
        "To date, no administrative claims data has been made publically available for research purposes. For this project I will leverage my existing access to the [MIMIC-IV (Medical Information Mart for Intensive Care)](https://mimic.mit.edu) research database that contains the data from over 500,000 intensive care stays. This database has been augmented to include the billed procedure and diagnosis codes. While the total subset of unique codes will be limited by the types of nature of the dataset (limited to ICU stays), the overall scope should be representitive of the larger scale problem. \n",
        "\n",
        "# Performance Metrics\n",
        "Peformance will be measured using metrics that have been widely adopted for XML and ranking tasks. Precision at $k$ (p$@k$) is one such metric that counts the fraction of correct predictions in the top $k$ scoring labels in $\\hat{y}$, and has been widely utilized. The ranking measure Normalized (Discounted) Cumlative Gain at $k$ (nDCG$@k$) as another evaluation metric. The p$@k$ and nDCG$@k$ metrics are defined for a predicted score vector $\\hat{\\mathbf y} \\in {\\mathbb{R}}^{L}$ and ground truth label vector $\\mathbf y \\in \\left\\lbrace 0, 1 \\right\\rbrace^L$ as: \n",
        "\n",
        "\\begin{align}\n",
        "        \\text{P}@k := \\frac{1}{k} \\sum_{l\\in \\text{rank}_k (\\hat{\\mathbf y})} \\mathbf y_l\\\\[1em]\n",
        "        \\text{DCG}@k := \\sum_{l\\in {\\text{rank}}_k (\\hat{\\mathbf y})} \\frac{\\mathbf y_l}{\\log(l+1)}\\\\[1em]\n",
        "        \\text{nDCG}@k := \\frac{{\\text{DCG}}@k}{\\sum_{l=1}^{\\min(k, \\|\\mathbf y\\|_0)} \\frac{1}{\\log(l+1)}},\\\\[1em]\n",
        "    \\end{align}\n",
        "\n",
        "where, $\\text{rank}_k(\\mathbf y)$ returns the $k$ largest indices of $\\mathbf{y}$ ranked in descending order.\n",
        "\n",
        "For datasets that contain excessively popular labels (often referred to as \"head\" labels) such as diagnosis codes, high p$@k$ may be achieved by simply predicting head labels repeatedly irrespective of their relevance to the data point. To check for such trivial behavior, it is recommended that XC methods also be evaluated with respect to propensity-scored counterparts of the p$@k$ and nDCG$@k$ metrics (PSP$@k$ and PSnDCG$@k$) described below.\n",
        "\n",
        "\\begin{align}\n",
        "        \\text{PSP}@k := \\frac{1}{k} \\sum_{l\\in \\text{rank}_k (\\hat{\\mathbf y})} \\frac{\\mathbf y_l}{p_l}\\\\[1em]\n",
        "        \\text{PSDCG}@k := \\sum_{l\\in {\\text{rank}}_k (\\hat{\\mathbf y})} \\frac{\\mathbf y_l}{p_l\\log(l+1)}\\\\[1em]\n",
        "        \\text{PSnDCG}@k := \\frac{{\\text{PSDCG}}@k}{\\sum_{l=1}^{k} \\frac{1}{\\log(l+1)}},\\\\[1em]\n",
        "    \\end{align}\n",
        "\n",
        "where $p_l$ is the propensity score for label $l$ which helps in making metrics unbiased with respect to missing labels. Propensity-scored metrics place specific emphasis on performing well on tail labels and give reduced rewards for predicting popular or head labels. For this study we will use metrics$@k$ in $\\{1,3,5\\}$.\n",
        "\n",
        "Given that as of the time of writing, no relevant papers on this topic exist, the overarching purpose of this project will be to estabish a benchmark from which future work can be compared against. "
      ],
      "metadata": {
        "id": "TZfYKV6mxREL"
      }
    },
    {
      "cell_type": "markdown",
      "source": [
        "# Data Ingestion and Cleaning"
      ],
      "metadata": {
        "id": "Zp0-w3_KfXCh"
      }
    },
    {
      "cell_type": "code",
      "source": [
        "!wget -r -N -c -np --user kprybol --ask-password https://physionet.org/files/mimiciv/1.0/core/patients.csv.gz\n",
        "!wget -r -N -c -np --user kprybol --ask-password https://physionet.org/files/mimiciv/1.0/core/admissions.csv.gz\n",
        "!wget -r -N -c -np --user kprybol --ask-password https://physionet.org/files/mimiciv/1.0/hosp/procedures_icd.csv.gz\n",
        "!wget -r -N -c -np --user kprybol --ask-password https://physionet.org/files/mimiciv/1.0/hosp/diagnoses_icd.csv.gz\n",
        "!wget -r -N -c -np --user kprybol --ask-password https://physionet.org/files/mimiciv/1.0/hosp/drgcodes.csv.gz\n",
        "!wget -r -N -c -np --user kprybol --ask-password https://physionet.org/files/mimiciv/1.0/hosp/hcpcsevents.csv.gz"
      ],
      "metadata": {
        "id": "U7b_fqOWeLR4",
        "outputId": "079a685d-55eb-4199-f7cc-b4ea31827efb",
        "colab": {
          "base_uri": "https://localhost:8080/"
        }
      },
      "execution_count": 64,
      "outputs": [
        {
          "output_type": "stream",
          "name": "stdout",
          "text": [
            "Password for user ‘kprybol’: \n",
            "--2022-05-30 03:08:33--  https://physionet.org/files/mimiciv/1.0/core/patients.csv.gz\n",
            "Resolving physionet.org (physionet.org)... 18.18.42.54\n",
            "Connecting to physionet.org (physionet.org)|18.18.42.54|:443... connected.\n",
            "HTTP request sent, awaiting response... 401 Unauthorized\n",
            "Authentication selected: Basic realm=\"PhysioNet\", charset=\"UTF-8\"\n",
            "Reusing existing connection to physionet.org:443.\n",
            "HTTP request sent, awaiting response... 304 Not Modified\n",
            "File ‘physionet.org/files/mimiciv/1.0/core/patients.csv.gz’ not modified on server. Omitting download.\n",
            "\n",
            "Password for user ‘kprybol’: \n",
            "--2022-05-30 03:08:36--  https://physionet.org/files/mimiciv/1.0/core/admissions.csv.gz\n",
            "Resolving physionet.org (physionet.org)... 18.18.42.54\n",
            "Connecting to physionet.org (physionet.org)|18.18.42.54|:443... connected.\n",
            "HTTP request sent, awaiting response... 401 Unauthorized\n",
            "Authentication selected: Basic realm=\"PhysioNet\", charset=\"UTF-8\"\n",
            "Reusing existing connection to physionet.org:443.\n",
            "HTTP request sent, awaiting response... 304 Not Modified\n",
            "File ‘physionet.org/files/mimiciv/1.0/core/admissions.csv.gz’ not modified on server. Omitting download.\n",
            "\n",
            "Password for user ‘kprybol’: \n",
            "--2022-05-30 03:08:39--  https://physionet.org/files/mimiciv/1.0/hosp/procedures_icd.csv.gz\n",
            "Resolving physionet.org (physionet.org)... 18.18.42.54\n",
            "Connecting to physionet.org (physionet.org)|18.18.42.54|:443... connected.\n",
            "HTTP request sent, awaiting response... 401 Unauthorized\n",
            "Authentication selected: Basic realm=\"PhysioNet\", charset=\"UTF-8\"\n",
            "Reusing existing connection to physionet.org:443.\n",
            "HTTP request sent, awaiting response... 304 Not Modified\n",
            "File ‘physionet.org/files/mimiciv/1.0/hosp/procedures_icd.csv.gz’ not modified on server. Omitting download.\n",
            "\n",
            "Password for user ‘kprybol’: \n",
            "--2022-05-30 03:08:43--  https://physionet.org/files/mimiciv/1.0/hosp/diagnoses_icd.csv.gz\n",
            "Resolving physionet.org (physionet.org)... 18.18.42.54\n",
            "Connecting to physionet.org (physionet.org)|18.18.42.54|:443... connected.\n",
            "HTTP request sent, awaiting response... 401 Unauthorized\n",
            "Authentication selected: Basic realm=\"PhysioNet\", charset=\"UTF-8\"\n",
            "Reusing existing connection to physionet.org:443.\n",
            "HTTP request sent, awaiting response... 304 Not Modified\n",
            "File ‘physionet.org/files/mimiciv/1.0/hosp/diagnoses_icd.csv.gz’ not modified on server. Omitting download.\n",
            "\n",
            "Password for user ‘kprybol’: \n",
            "--2022-05-30 03:08:47--  https://physionet.org/files/mimiciv/1.0/hosp/drgcodes.csv.gz\n",
            "Resolving physionet.org (physionet.org)... 18.18.42.54\n",
            "Connecting to physionet.org (physionet.org)|18.18.42.54|:443... connected.\n",
            "HTTP request sent, awaiting response... 401 Unauthorized\n",
            "Authentication selected: Basic realm=\"PhysioNet\", charset=\"UTF-8\"\n",
            "Reusing existing connection to physionet.org:443.\n",
            "HTTP request sent, awaiting response... 304 Not Modified\n",
            "File ‘physionet.org/files/mimiciv/1.0/hosp/drgcodes.csv.gz’ not modified on server. Omitting download.\n",
            "\n",
            "Password for user ‘kprybol’: \n",
            "--2022-05-30 03:08:53--  https://physionet.org/files/mimiciv/1.0/hosp/hcpcsevents.csv.gz\n",
            "Resolving physionet.org (physionet.org)... 18.18.42.54\n",
            "Connecting to physionet.org (physionet.org)|18.18.42.54|:443... connected.\n",
            "HTTP request sent, awaiting response... 401 Unauthorized\n",
            "Authentication selected: Basic realm=\"PhysioNet\", charset=\"UTF-8\"\n",
            "Reusing existing connection to physionet.org:443.\n",
            "HTTP request sent, awaiting response... 200 OK\n",
            "Length: 2098831 (2.0M) [application/gzip]\n",
            "Saving to: ‘physionet.org/files/mimiciv/1.0/hosp/hcpcsevents.csv.gz’\n",
            "\n",
            "physionet.org/files 100%[===================>]   2.00M  5.17MB/s    in 0.4s    \n",
            "\n",
            "2022-05-30 03:08:54 (5.17 MB/s) - ‘physionet.org/files/mimiciv/1.0/hosp/hcpcsevents.csv.gz’ saved [2098831/2098831]\n",
            "\n",
            "FINISHED --2022-05-30 03:08:54--\n",
            "Total wall clock time: 5.5s\n",
            "Downloaded: 1 files, 2.0M in 0.4s (5.17 MB/s)\n"
          ]
        }
      ]
    },
    {
      "cell_type": "code",
      "source": [
        "import pandas as pd\n",
        "import tensorflow as tf\n",
        "import numpy as np\n",
        "import random\n",
        "import seaborn as sns"
      ],
      "metadata": {
        "id": "v2UfAsmDeQR2"
      },
      "execution_count": 142,
      "outputs": []
    },
    {
      "cell_type": "code",
      "source": [
        "pat_df = pd.read_csv('physionet.org/files/mimiciv/1.0/core/patients.csv.gz')\n",
        "admit_df = pd.read_csv('physionet.org/files/mimiciv/1.0/core/admissions.csv.gz')\n",
        "proc_df = pd.read_csv('physionet.org/files/mimiciv/1.0/hosp/procedures_icd.csv.gz')\n",
        "diag_df = pd.read_csv('physionet.org/files/mimiciv/1.0/hosp/diagnoses_icd.csv.gz')\n",
        "drg_df = pd.read_csv('physionet.org/files/mimiciv/1.0/hosp/drgcodes.csv.gz')\n",
        "hcpcs_df = pd.read_csv('physionet.org/files/mimiciv/1.0/hosp/hcpcsevents.csv.gz')"
      ],
      "metadata": {
        "id": "Q5G0caNMfwGN"
      },
      "execution_count": 143,
      "outputs": []
    },
    {
      "cell_type": "code",
      "source": [
        "proc_gem = pd.read_csv('https://data.nber.org/gem/icd9toicd10pcsgem.csv')\n",
        "diag_gem = pd.read_csv('https://data.nber.org/gem/icd9toicd10cmgem.csv')"
      ],
      "metadata": {
        "id": "T764HAIIiTjX"
      },
      "execution_count": 144,
      "outputs": []
    },
    {
      "cell_type": "code",
      "source": [
        "def convert_gem_icd10(df, gem):\n",
        "  df['icd_code'] = df['icd_code'].astype(str)\n",
        "  gem['icd9cm'] = gem['icd9cm'].astype(str)\n",
        "  gem = gem[(gem['combination'] == 1) & (gem['choice_list'] == 1) | (gem['combination'] == 0)]\n",
        "  print('merging dataframes')\n",
        "  df_comb = df.merge(gem, how='left', left_on='icd_code', right_on='icd9cm')\n",
        "  print('recoding to ICD10')\n",
        "  df_comb['icd_10_recode'] = np.where(df_comb['icd_version'] == 9, df_comb['icd10cm'], df_comb['icd_code'])\n",
        "  print('filtering dataframe')\n",
        "  df_comb = df_comb[df_comb['no_map'] != 0]\n",
        "  df_comb = df_comb[df_comb['icd_10_recode'] != 'NoPCS']\n",
        "  return df_comb "
      ],
      "metadata": {
        "id": "i3IVi-nogajT"
      },
      "execution_count": 145,
      "outputs": []
    },
    {
      "cell_type": "code",
      "source": [
        "diag10_df = convert_gem_icd10(diag_df, diag_gem)\n",
        "proc10_df = convert_gem_icd10(proc_df, proc_gem)"
      ],
      "metadata": {
        "id": "OnYjMYeHgcQL",
        "outputId": "85153efd-a05a-47fe-bce9-19f4a6d560c7",
        "colab": {
          "base_uri": "https://localhost:8080/"
        }
      },
      "execution_count": 146,
      "outputs": [
        {
          "output_type": "stream",
          "name": "stdout",
          "text": [
            "merging dataframes\n",
            "recoding to ICD10\n",
            "filtering dataframe\n",
            "merging dataframes\n",
            "recoding to ICD10\n",
            "filtering dataframe\n"
          ]
        }
      ]
    },
    {
      "cell_type": "code",
      "source": [
        "pat_df = pat_df.merge(admit_df[['subject_id', 'hadm_id', 'admittime']], how='inner', on=['subject_id'])"
      ],
      "metadata": {
        "id": "9vcQvmnVYv0_"
      },
      "execution_count": null,
      "outputs": []
    },
    {
      "cell_type": "code",
      "source": [
        "import datetime as dt\n",
        "\n",
        "def convert_anchor_year(x):\n",
        "  return dt.datetime.combine(dt.date(x, 1, 1), dt.time(0, 0))\n",
        "\n",
        "\n",
        "pat_df['anchor_dt'] = pat_df['anchor_year'].apply(convert_anchor_year)\n",
        "pat_df['admittime'] = pd.to_datetime(pat_df['admittime'])\n",
        "pat_df['age'] = pd.DatetimeIndex(pat_df['admittime']).year - pd.DatetimeIndex(pat_df['anchor_dt']).year + pat_df['anchor_age']\n",
        "pat_df.head()"
      ],
      "metadata": {
        "id": "pQz70R7ublnM",
        "outputId": "5028145d-47b0-4122-ac16-7a05649feff4",
        "colab": {
          "base_uri": "https://localhost:8080/",
          "height": 204
        }
      },
      "execution_count": 148,
      "outputs": [
        {
          "output_type": "execute_result",
          "data": {
            "text/plain": [
              "   subject_id gender  anchor_age  anchor_year anchor_year_group  dod  \\\n",
              "0    10002723      F           0         2128       2017 - 2019  NaN   \n",
              "1    10002723      F           0         2128       2017 - 2019  NaN   \n",
              "2    10003939      M           0         2184       2008 - 2010  NaN   \n",
              "3    10004222      M           0         2161       2014 - 2016  NaN   \n",
              "4    10005325      F           0         2154       2011 - 2013  NaN   \n",
              "\n",
              "    hadm_id           admittime  anchor_dt  age  \n",
              "0  26724970 2128-06-10 15:29:00 2128-01-01    0  \n",
              "1  20429365 2128-06-13 14:15:00 2128-01-01    0  \n",
              "2  22561709 2184-06-26 17:48:00 2184-01-01    0  \n",
              "3  22106441 2161-05-29 21:09:00 2161-01-01    0  \n",
              "4  20047480 2154-12-15 14:10:00 2154-01-01    0  "
            ],
            "text/html": [
              "\n",
              "  <div id=\"df-c60981e6-01b5-43cc-ad42-dc95071bed32\">\n",
              "    <div class=\"colab-df-container\">\n",
              "      <div>\n",
              "<style scoped>\n",
              "    .dataframe tbody tr th:only-of-type {\n",
              "        vertical-align: middle;\n",
              "    }\n",
              "\n",
              "    .dataframe tbody tr th {\n",
              "        vertical-align: top;\n",
              "    }\n",
              "\n",
              "    .dataframe thead th {\n",
              "        text-align: right;\n",
              "    }\n",
              "</style>\n",
              "<table border=\"1\" class=\"dataframe\">\n",
              "  <thead>\n",
              "    <tr style=\"text-align: right;\">\n",
              "      <th></th>\n",
              "      <th>subject_id</th>\n",
              "      <th>gender</th>\n",
              "      <th>anchor_age</th>\n",
              "      <th>anchor_year</th>\n",
              "      <th>anchor_year_group</th>\n",
              "      <th>dod</th>\n",
              "      <th>hadm_id</th>\n",
              "      <th>admittime</th>\n",
              "      <th>anchor_dt</th>\n",
              "      <th>age</th>\n",
              "    </tr>\n",
              "  </thead>\n",
              "  <tbody>\n",
              "    <tr>\n",
              "      <th>0</th>\n",
              "      <td>10002723</td>\n",
              "      <td>F</td>\n",
              "      <td>0</td>\n",
              "      <td>2128</td>\n",
              "      <td>2017 - 2019</td>\n",
              "      <td>NaN</td>\n",
              "      <td>26724970</td>\n",
              "      <td>2128-06-10 15:29:00</td>\n",
              "      <td>2128-01-01</td>\n",
              "      <td>0</td>\n",
              "    </tr>\n",
              "    <tr>\n",
              "      <th>1</th>\n",
              "      <td>10002723</td>\n",
              "      <td>F</td>\n",
              "      <td>0</td>\n",
              "      <td>2128</td>\n",
              "      <td>2017 - 2019</td>\n",
              "      <td>NaN</td>\n",
              "      <td>20429365</td>\n",
              "      <td>2128-06-13 14:15:00</td>\n",
              "      <td>2128-01-01</td>\n",
              "      <td>0</td>\n",
              "    </tr>\n",
              "    <tr>\n",
              "      <th>2</th>\n",
              "      <td>10003939</td>\n",
              "      <td>M</td>\n",
              "      <td>0</td>\n",
              "      <td>2184</td>\n",
              "      <td>2008 - 2010</td>\n",
              "      <td>NaN</td>\n",
              "      <td>22561709</td>\n",
              "      <td>2184-06-26 17:48:00</td>\n",
              "      <td>2184-01-01</td>\n",
              "      <td>0</td>\n",
              "    </tr>\n",
              "    <tr>\n",
              "      <th>3</th>\n",
              "      <td>10004222</td>\n",
              "      <td>M</td>\n",
              "      <td>0</td>\n",
              "      <td>2161</td>\n",
              "      <td>2014 - 2016</td>\n",
              "      <td>NaN</td>\n",
              "      <td>22106441</td>\n",
              "      <td>2161-05-29 21:09:00</td>\n",
              "      <td>2161-01-01</td>\n",
              "      <td>0</td>\n",
              "    </tr>\n",
              "    <tr>\n",
              "      <th>4</th>\n",
              "      <td>10005325</td>\n",
              "      <td>F</td>\n",
              "      <td>0</td>\n",
              "      <td>2154</td>\n",
              "      <td>2011 - 2013</td>\n",
              "      <td>NaN</td>\n",
              "      <td>20047480</td>\n",
              "      <td>2154-12-15 14:10:00</td>\n",
              "      <td>2154-01-01</td>\n",
              "      <td>0</td>\n",
              "    </tr>\n",
              "  </tbody>\n",
              "</table>\n",
              "</div>\n",
              "      <button class=\"colab-df-convert\" onclick=\"convertToInteractive('df-c60981e6-01b5-43cc-ad42-dc95071bed32')\"\n",
              "              title=\"Convert this dataframe to an interactive table.\"\n",
              "              style=\"display:none;\">\n",
              "        \n",
              "  <svg xmlns=\"http://www.w3.org/2000/svg\" height=\"24px\"viewBox=\"0 0 24 24\"\n",
              "       width=\"24px\">\n",
              "    <path d=\"M0 0h24v24H0V0z\" fill=\"none\"/>\n",
              "    <path d=\"M18.56 5.44l.94 2.06.94-2.06 2.06-.94-2.06-.94-.94-2.06-.94 2.06-2.06.94zm-11 1L8.5 8.5l.94-2.06 2.06-.94-2.06-.94L8.5 2.5l-.94 2.06-2.06.94zm10 10l.94 2.06.94-2.06 2.06-.94-2.06-.94-.94-2.06-.94 2.06-2.06.94z\"/><path d=\"M17.41 7.96l-1.37-1.37c-.4-.4-.92-.59-1.43-.59-.52 0-1.04.2-1.43.59L10.3 9.45l-7.72 7.72c-.78.78-.78 2.05 0 2.83L4 21.41c.39.39.9.59 1.41.59.51 0 1.02-.2 1.41-.59l7.78-7.78 2.81-2.81c.8-.78.8-2.07 0-2.86zM5.41 20L4 18.59l7.72-7.72 1.47 1.35L5.41 20z\"/>\n",
              "  </svg>\n",
              "      </button>\n",
              "      \n",
              "  <style>\n",
              "    .colab-df-container {\n",
              "      display:flex;\n",
              "      flex-wrap:wrap;\n",
              "      gap: 12px;\n",
              "    }\n",
              "\n",
              "    .colab-df-convert {\n",
              "      background-color: #E8F0FE;\n",
              "      border: none;\n",
              "      border-radius: 50%;\n",
              "      cursor: pointer;\n",
              "      display: none;\n",
              "      fill: #1967D2;\n",
              "      height: 32px;\n",
              "      padding: 0 0 0 0;\n",
              "      width: 32px;\n",
              "    }\n",
              "\n",
              "    .colab-df-convert:hover {\n",
              "      background-color: #E2EBFA;\n",
              "      box-shadow: 0px 1px 2px rgba(60, 64, 67, 0.3), 0px 1px 3px 1px rgba(60, 64, 67, 0.15);\n",
              "      fill: #174EA6;\n",
              "    }\n",
              "\n",
              "    [theme=dark] .colab-df-convert {\n",
              "      background-color: #3B4455;\n",
              "      fill: #D2E3FC;\n",
              "    }\n",
              "\n",
              "    [theme=dark] .colab-df-convert:hover {\n",
              "      background-color: #434B5C;\n",
              "      box-shadow: 0px 1px 3px 1px rgba(0, 0, 0, 0.15);\n",
              "      filter: drop-shadow(0px 1px 2px rgba(0, 0, 0, 0.3));\n",
              "      fill: #FFFFFF;\n",
              "    }\n",
              "  </style>\n",
              "\n",
              "      <script>\n",
              "        const buttonEl =\n",
              "          document.querySelector('#df-c60981e6-01b5-43cc-ad42-dc95071bed32 button.colab-df-convert');\n",
              "        buttonEl.style.display =\n",
              "          google.colab.kernel.accessAllowed ? 'block' : 'none';\n",
              "\n",
              "        async function convertToInteractive(key) {\n",
              "          const element = document.querySelector('#df-c60981e6-01b5-43cc-ad42-dc95071bed32');\n",
              "          const dataTable =\n",
              "            await google.colab.kernel.invokeFunction('convertToInteractive',\n",
              "                                                     [key], {});\n",
              "          if (!dataTable) return;\n",
              "\n",
              "          const docLinkHtml = 'Like what you see? Visit the ' +\n",
              "            '<a target=\"_blank\" href=https://colab.research.google.com/notebooks/data_table.ipynb>data table notebook</a>'\n",
              "            + ' to learn more about interactive tables.';\n",
              "          element.innerHTML = '';\n",
              "          dataTable['output_type'] = 'display_data';\n",
              "          await google.colab.output.renderOutput(dataTable, element);\n",
              "          const docLink = document.createElement('div');\n",
              "          docLink.innerHTML = docLinkHtml;\n",
              "          element.appendChild(docLink);\n",
              "        }\n",
              "      </script>\n",
              "    </div>\n",
              "  </div>\n",
              "  "
            ]
          },
          "metadata": {},
          "execution_count": 148
        }
      ]
    },
    {
      "cell_type": "markdown",
      "source": [
        "# Basic EDA"
      ],
      "metadata": {
        "id": "JRGPoj3Mk8Zg"
      }
    },
    {
      "cell_type": "code",
      "source": [
        "# distinct number of ICD procedure and diagnosis codes\n",
        "print(f'Total number of unique ICD10 Procedure Codes: {proc10_df.icd_10_recode.unique().shape[0]}')\n",
        "print(f'Total number of unique ICD10 Diagnosis Codes: {diag10_df.icd_10_recode.unique().shape[0]}')\n",
        "print(f'Total number of unique HCPCS Procedure Codes: {hcpcs_df.hcpcs_cd.unique().shape[0]}')"
      ],
      "metadata": {
        "id": "1lh6s4BjstBM",
        "outputId": "7ad88760-d55c-414f-c029-f3962f19a5f8",
        "colab": {
          "base_uri": "https://localhost:8080/"
        }
      },
      "execution_count": 149,
      "outputs": [
        {
          "output_type": "stream",
          "name": "stdout",
          "text": [
            "Total number of unique ICD10 Procedure Codes: 10430\n",
            "Total number of unique ICD10 Diagnosis Codes: 17628\n",
            "Total number of unique HCPCS Procedure Codes: 2239\n"
          ]
        }
      ]
    },
    {
      "cell_type": "code",
      "source": [
        "# limit to codes with 5 or more occurances \n",
        "proc_10_slim = proc10_df.groupby('icd_10_recode').filter(lambda x: len(x) >= 5)\n",
        "print(f'Total number of unique ICD10 Procedure Codes kept after frequency filter (n >= 5): {proc_10_slim[\"icd_10_recode\"].unique().shape[0]}')\n",
        "\n",
        "proc_kept = round((proc_10_slim[\"icd_10_recode\"].unique().shape[0] / proc10_df.icd_10_recode.unique().shape[0])  * 100, 2)\n",
        "print(f'Total number of ICD10 Procedure Codes included reduced by {proc_kept}%')\n",
        "\n",
        "diag_10_slim = diag10_df.groupby('icd_10_recode').filter(lambda x: len(x) >= 5)\n",
        "print(f'Total number of unique ICD10 Diagnosis Codes kept after frequency filter (n >= 5): {diag_10_slim[\"icd_10_recode\"].unique().shape[0]}')\n",
        "\n",
        "diag_kept = round((diag_10_slim[\"icd_10_recode\"].unique().shape[0] / diag10_df.icd_10_recode.unique().shape[0]) * 100, 2)\n",
        "print(f'Total number of ICD10 Procedure Codes included reduced by {diag_kept}%')\n",
        "\n",
        "hcpcs_slim = hcpcs_df.groupby('hcpcs_cd').filter(lambda x: len(x) >= 5)\n",
        "print(f'Total number of unique HCPCS Procedure Codes kept after frequency filter (n >= 5): {hcpcs_slim[\"hcpcs_cd\"].unique().shape[0]}')\n",
        "\n",
        "hcpcs_kept = round((hcpcs_slim[\"hcpcs_cd\"].unique().shape[0] / hcpcs_df.hcpcs_cd.unique().shape[0])  * 100, 2)\n",
        "print(f'Total number of HCPCS Procedure Codes included reduced by {hcpcs_kept}%')"
      ],
      "metadata": {
        "id": "4Wgj6Arik4uT",
        "outputId": "0cc77d0e-4a5a-4cb7-a393-9c28cfb2c371",
        "colab": {
          "base_uri": "https://localhost:8080/"
        }
      },
      "execution_count": 150,
      "outputs": [
        {
          "output_type": "stream",
          "name": "stdout",
          "text": [
            "Total number of unique ICD10 Procedure Codes kept after frequency filter (n >= 5): 3729\n",
            "Total number of ICD10 Procedure Codes included reduced by 35.75%\n",
            "Total number of unique ICD10 Diagnosis Codes kept after frequency filter (n >= 5): 8857\n",
            "Total number of ICD10 Procedure Codes included reduced by 50.24%\n",
            "Total number of unique HCPCS Procedure Codes kept after frequency filter (n >= 5): 902\n",
            "Total number of HCPCS Procedure Codes included reduced by 40.29%\n"
          ]
        }
      ]
    },
    {
      "cell_type": "code",
      "source": [
        "sns.countplot(x='icd_10_recode',data=proc_10_slim,order=proc_10_slim['icd_10_recode'].value_counts().iloc[:100].index).set(title='Frequency of 100 Most Common Procedure Codes');"
      ],
      "metadata": {
        "id": "seQEeP_dld2o",
        "outputId": "a3a1e405-7857-4cd7-80a6-0632b9035a69",
        "colab": {
          "base_uri": "https://localhost:8080/",
          "height": 296
        }
      },
      "execution_count": 44,
      "outputs": [
        {
          "output_type": "display_data",
          "data": {
            "text/plain": [
              "<Figure size 432x288 with 1 Axes>"
            ],
            "image/png": "[encoded data removed]"
          },
          "metadata": {
            "needs_background": "light"
          }
        }
      ]
    },
    {
      "cell_type": "code",
      "source": [
        "sns.countplot(x='icd_10_recode',data=diag_10_slim,order=diag_10_slim['icd_10_recode'].value_counts().iloc[:100].index).set(title='Frequency of 100 Most Common Diagnosis Codes');"
      ],
      "metadata": {
        "id": "vQIf9t3Hzk2A",
        "outputId": "62936c66-080d-4de6-f94a-78bac8c75757",
        "colab": {
          "base_uri": "https://localhost:8080/",
          "height": 296
        }
      },
      "execution_count": 45,
      "outputs": [
        {
          "output_type": "display_data",
          "data": {
            "text/plain": [
              "<Figure size 432x288 with 1 Axes>"
            ],
            "image/png": "[encoded data removed]"
          },
          "metadata": {
            "needs_background": "light"
          }
        }
      ]
    },
    {
      "cell_type": "code",
      "source": [
        "sns.countplot(x='hcpcs_cd',data=hcpcs_slim,order=hcpcs_slim['hcpcs_cd'].value_counts().iloc[:100].index).set(title='Frequency of 100 Most Common HCPCS Codes');"
      ],
      "metadata": {
        "id": "ayhOCzOMBqgM",
        "outputId": "f0d57e0e-551b-4f72-9aa4-64f24f124dd2",
        "colab": {
          "base_uri": "https://localhost:8080/",
          "height": 296
        }
      },
      "execution_count": 78,
      "outputs": [
        {
          "output_type": "display_data",
          "data": {
            "text/plain": [
              "<Figure size 432x288 with 1 Axes>"
            ],
            "image/png": "[encoded data removed]"
          },
          "metadata": {
            "needs_background": "light"
          }
        }
      ]
    },
    {
      "cell_type": "code",
      "source": [
        "# create pivoted df's \n",
        "proc_10_slim = proc_10_slim.sort_values(by=['subject_id', 'hadm_id', 'seq_num'])\n",
        "proc_10_pivot = proc_10_slim.groupby(['subject_id', 'hadm_id'], sort=False)['icd_10_recode'].apply(list).reset_index()\n",
        "proc_10_pivot.columns = ['subject_id', 'hadm_id', 'proc_list']\n",
        "\n",
        "diag_10_slim = diag_10_slim.sort_values(by=['subject_id', 'hadm_id', 'seq_num'])\n",
        "diag_10_pivot = diag_10_slim.groupby(['subject_id', 'hadm_id'], sort=False)['icd_10_recode'].apply(list).reset_index()\n",
        "diag_10_pivot.columns = ['subject_id', 'hadm_id', 'diag_list']\n",
        "\n",
        "hcpcs_slim = hcpcs_slim.sort_values(by=['subject_id', 'hadm_id', 'seq_num'])\n",
        "hcpcs_pivot = hcpcs_slim.groupby(['subject_id', 'hadm_id'], sort=False)['hcpcs_cd'].apply(list).reset_index()\n",
        "hcpcs_pivot.columns = ['subject_id', 'hadm_id', 'hcpcs_list']\n",
        "hcpcs_pivot.head()"
      ],
      "metadata": {
        "id": "29Tu0tNvzsop",
        "outputId": "71e146e1-410f-437a-c10a-b2de524811ac",
        "colab": {
          "base_uri": "https://localhost:8080/",
          "height": 204
        }
      },
      "execution_count": 151,
      "outputs": [
        {
          "output_type": "execute_result",
          "data": {
            "text/plain": [
              "   subject_id   hadm_id      hcpcs_list\n",
              "0    10000068  25022803         [99218]\n",
              "1    10000084  29888819         [G0378]\n",
              "2    10000108  27250926         [99219]\n",
              "3    10000117  22927623  [43239, G0378]\n",
              "4    10000248  20600184         [99219]"
            ],
            "text/html": [
              "\n",
              "  <div id=\"df-f32a486d-120f-470b-9dd0-5f972144c04d\">\n",
              "    <div class=\"colab-df-container\">\n",
              "      <div>\n",
              "<style scoped>\n",
              "    .dataframe tbody tr th:only-of-type {\n",
              "        vertical-align: middle;\n",
              "    }\n",
              "\n",
              "    .dataframe tbody tr th {\n",
              "        vertical-align: top;\n",
              "    }\n",
              "\n",
              "    .dataframe thead th {\n",
              "        text-align: right;\n",
              "    }\n",
              "</style>\n",
              "<table border=\"1\" class=\"dataframe\">\n",
              "  <thead>\n",
              "    <tr style=\"text-align: right;\">\n",
              "      <th></th>\n",
              "      <th>subject_id</th>\n",
              "      <th>hadm_id</th>\n",
              "      <th>hcpcs_list</th>\n",
              "    </tr>\n",
              "  </thead>\n",
              "  <tbody>\n",
              "    <tr>\n",
              "      <th>0</th>\n",
              "      <td>10000068</td>\n",
              "      <td>25022803</td>\n",
              "      <td>[99218]</td>\n",
              "    </tr>\n",
              "    <tr>\n",
              "      <th>1</th>\n",
              "      <td>10000084</td>\n",
              "      <td>29888819</td>\n",
              "      <td>[G0378]</td>\n",
              "    </tr>\n",
              "    <tr>\n",
              "      <th>2</th>\n",
              "      <td>10000108</td>\n",
              "      <td>27250926</td>\n",
              "      <td>[99219]</td>\n",
              "    </tr>\n",
              "    <tr>\n",
              "      <th>3</th>\n",
              "      <td>10000117</td>\n",
              "      <td>22927623</td>\n",
              "      <td>[43239, G0378]</td>\n",
              "    </tr>\n",
              "    <tr>\n",
              "      <th>4</th>\n",
              "      <td>10000248</td>\n",
              "      <td>20600184</td>\n",
              "      <td>[99219]</td>\n",
              "    </tr>\n",
              "  </tbody>\n",
              "</table>\n",
              "</div>\n",
              "      <button class=\"colab-df-convert\" onclick=\"convertToInteractive('df-f32a486d-120f-470b-9dd0-5f972144c04d')\"\n",
              "              title=\"Convert this dataframe to an interactive table.\"\n",
              "              style=\"display:none;\">\n",
              "        \n",
              "  <svg xmlns=\"http://www.w3.org/2000/svg\" height=\"24px\"viewBox=\"0 0 24 24\"\n",
              "       width=\"24px\">\n",
              "    <path d=\"M0 0h24v24H0V0z\" fill=\"none\"/>\n",
              "    <path d=\"M18.56 5.44l.94 2.06.94-2.06 2.06-.94-2.06-.94-.94-2.06-.94 2.06-2.06.94zm-11 1L8.5 8.5l.94-2.06 2.06-.94-2.06-.94L8.5 2.5l-.94 2.06-2.06.94zm10 10l.94 2.06.94-2.06 2.06-.94-2.06-.94-.94-2.06-.94 2.06-2.06.94z\"/><path d=\"M17.41 7.96l-1.37-1.37c-.4-.4-.92-.59-1.43-.59-.52 0-1.04.2-1.43.59L10.3 9.45l-7.72 7.72c-.78.78-.78 2.05 0 2.83L4 21.41c.39.39.9.59 1.41.59.51 0 1.02-.2 1.41-.59l7.78-7.78 2.81-2.81c.8-.78.8-2.07 0-2.86zM5.41 20L4 18.59l7.72-7.72 1.47 1.35L5.41 20z\"/>\n",
              "  </svg>\n",
              "      </button>\n",
              "      \n",
              "  <style>\n",
              "    .colab-df-container {\n",
              "      display:flex;\n",
              "      flex-wrap:wrap;\n",
              "      gap: 12px;\n",
              "    }\n",
              "\n",
              "    .colab-df-convert {\n",
              "      background-color: #E8F0FE;\n",
              "      border: none;\n",
              "      border-radius: 50%;\n",
              "      cursor: pointer;\n",
              "      display: none;\n",
              "      fill: #1967D2;\n",
              "      height: 32px;\n",
              "      padding: 0 0 0 0;\n",
              "      width: 32px;\n",
              "    }\n",
              "\n",
              "    .colab-df-convert:hover {\n",
              "      background-color: #E2EBFA;\n",
              "      box-shadow: 0px 1px 2px rgba(60, 64, 67, 0.3), 0px 1px 3px 1px rgba(60, 64, 67, 0.15);\n",
              "      fill: #174EA6;\n",
              "    }\n",
              "\n",
              "    [theme=dark] .colab-df-convert {\n",
              "      background-color: #3B4455;\n",
              "      fill: #D2E3FC;\n",
              "    }\n",
              "\n",
              "    [theme=dark] .colab-df-convert:hover {\n",
              "      background-color: #434B5C;\n",
              "      box-shadow: 0px 1px 3px 1px rgba(0, 0, 0, 0.15);\n",
              "      filter: drop-shadow(0px 1px 2px rgba(0, 0, 0, 0.3));\n",
              "      fill: #FFFFFF;\n",
              "    }\n",
              "  </style>\n",
              "\n",
              "      <script>\n",
              "        const buttonEl =\n",
              "          document.querySelector('#df-f32a486d-120f-470b-9dd0-5f972144c04d button.colab-df-convert');\n",
              "        buttonEl.style.display =\n",
              "          google.colab.kernel.accessAllowed ? 'block' : 'none';\n",
              "\n",
              "        async function convertToInteractive(key) {\n",
              "          const element = document.querySelector('#df-f32a486d-120f-470b-9dd0-5f972144c04d');\n",
              "          const dataTable =\n",
              "            await google.colab.kernel.invokeFunction('convertToInteractive',\n",
              "                                                     [key], {});\n",
              "          if (!dataTable) return;\n",
              "\n",
              "          const docLinkHtml = 'Like what you see? Visit the ' +\n",
              "            '<a target=\"_blank\" href=https://colab.research.google.com/notebooks/data_table.ipynb>data table notebook</a>'\n",
              "            + ' to learn more about interactive tables.';\n",
              "          element.innerHTML = '';\n",
              "          dataTable['output_type'] = 'display_data';\n",
              "          await google.colab.output.renderOutput(dataTable, element);\n",
              "          const docLink = document.createElement('div');\n",
              "          docLink.innerHTML = docLinkHtml;\n",
              "          element.appendChild(docLink);\n",
              "        }\n",
              "      </script>\n",
              "    </div>\n",
              "  </div>\n",
              "  "
            ]
          },
          "metadata": {},
          "execution_count": 151
        }
      ]
    },
    {
      "cell_type": "code",
      "source": [
        "full_df = pat_df.merge(diag_10_pivot, on=['subject_id', 'hadm_id'])\n",
        "full_df = full_df.merge(proc_10_pivot, on=['subject_id', 'hadm_id'])\n",
        "full_df = full_df.merge(hcpcs_pivot, on=['subject_id', 'hadm_id'], how='left')\n",
        "for row in full_df.loc[full_df.hcpcs_list.isnull(), 'hcpcs_list'].index:\n",
        "    full_df.at[row, 'hcpcs_list'] = []"
      ],
      "metadata": {
        "id": "5tTU9Sq1409G"
      },
      "execution_count": null,
      "outputs": []
    },
    {
      "cell_type": "code",
      "source": [
        "full_df['proc_list_length'] = full_df.apply(lambda x: len(x['proc_list']), axis=1)\n",
        "full_df['diag_list_length'] = full_df.apply(lambda x: len(x['diag_list']), axis=1)\n",
        "full_df['hcpcs_list_length'] = full_df.apply(lambda x: len(x['hcpcs_list']), axis=1)"
      ],
      "metadata": {
        "id": "0tmqw_jIC0ED"
      },
      "execution_count": 154,
      "outputs": []
    },
    {
      "cell_type": "code",
      "source": [
        "sns.histplot(x='proc_list_length', data=full_df);"
      ],
      "metadata": {
        "id": "gr7Ezygg6NuG",
        "outputId": "1208e95b-8a36-4266-c51e-bfa2388989a8",
        "colab": {
          "base_uri": "https://localhost:8080/",
          "height": 280
        }
      },
      "execution_count": 62,
      "outputs": [
        {
          "output_type": "display_data",
          "data": {
            "text/plain": [
              "<Figure size 432x288 with 1 Axes>"
            ],
            "image/png": "[encoded data removed]"
          },
          "metadata": {
            "needs_background": "light"
          }
        }
      ]
    },
    {
      "cell_type": "code",
      "source": [
        "sns.histplot(x='diag_list_length', data=full_df);"
      ],
      "metadata": {
        "id": "pCfGuMZq7Lnb",
        "outputId": "cfdc5b2c-9924-4bae-d953-600394a9d0da",
        "colab": {
          "base_uri": "https://localhost:8080/",
          "height": 280
        }
      },
      "execution_count": 63,
      "outputs": [
        {
          "output_type": "display_data",
          "data": {
            "text/plain": [
              "<Figure size 432x288 with 1 Axes>"
            ],
            "image/png": "[encoded data removed]"
          },
          "metadata": {
            "needs_background": "light"
          }
        }
      ]
    },
    {
      "cell_type": "code",
      "source": [
        "sns.histplot(x='hcpcs_list_length', data=full_df);"
      ],
      "metadata": {
        "id": "ISfYc7dI7VSK",
        "outputId": "3c4f8e84-b0a7-49f0-f30f-1a9383b93102",
        "colab": {
          "base_uri": "https://localhost:8080/",
          "height": 280
        }
      },
      "execution_count": 115,
      "outputs": [
        {
          "output_type": "display_data",
          "data": {
            "text/plain": [
              "<Figure size 432x288 with 1 Axes>"
            ],
            "image/png": "[encoded data removed]"
          },
          "metadata": {
            "needs_background": "light"
          }
        }
      ]
    },
    {
      "cell_type": "code",
      "source": [
        "full_df[['diag_list_length', 'proc_list_length', 'hcpcs_list_length']].describe()"
      ],
      "metadata": {
        "id": "9pc_IGfCJ2S8",
        "outputId": "1a32e47c-dc5e-4d80-920e-7205c18ca79f",
        "colab": {
          "base_uri": "https://localhost:8080/",
          "height": 297
        }
      },
      "execution_count": 117,
      "outputs": [
        {
          "output_type": "execute_result",
          "data": {
            "text/plain": [
              "       diag_list_length  proc_list_length  hcpcs_list_length\n",
              "count      86611.000000      86611.000000       86611.000000\n",
              "mean          13.785420          2.815451           0.004895\n",
              "std            8.471201          2.733763           0.115826\n",
              "min            1.000000          1.000000           0.000000\n",
              "25%            7.000000          1.000000           0.000000\n",
              "50%           12.000000          2.000000           0.000000\n",
              "75%           19.000000          3.000000           0.000000\n",
              "max           39.000000         41.000000          10.000000"
            ],
            "text/html": [
              "\n",
              "  <div id=\"df-f17bc76b-6ccd-4ac9-b7b0-198e497f80a3\">\n",
              "    <div class=\"colab-df-container\">\n",
              "      <div>\n",
              "<style scoped>\n",
              "    .dataframe tbody tr th:only-of-type {\n",
              "        vertical-align: middle;\n",
              "    }\n",
              "\n",
              "    .dataframe tbody tr th {\n",
              "        vertical-align: top;\n",
              "    }\n",
              "\n",
              "    .dataframe thead th {\n",
              "        text-align: right;\n",
              "    }\n",
              "</style>\n",
              "<table border=\"1\" class=\"dataframe\">\n",
              "  <thead>\n",
              "    <tr style=\"text-align: right;\">\n",
              "      <th></th>\n",
              "      <th>diag_list_length</th>\n",
              "      <th>proc_list_length</th>\n",
              "      <th>hcpcs_list_length</th>\n",
              "    </tr>\n",
              "  </thead>\n",
              "  <tbody>\n",
              "    <tr>\n",
              "      <th>count</th>\n",
              "      <td>86611.000000</td>\n",
              "      <td>86611.000000</td>\n",
              "      <td>86611.000000</td>\n",
              "    </tr>\n",
              "    <tr>\n",
              "      <th>mean</th>\n",
              "      <td>13.785420</td>\n",
              "      <td>2.815451</td>\n",
              "      <td>0.004895</td>\n",
              "    </tr>\n",
              "    <tr>\n",
              "      <th>std</th>\n",
              "      <td>8.471201</td>\n",
              "      <td>2.733763</td>\n",
              "      <td>0.115826</td>\n",
              "    </tr>\n",
              "    <tr>\n",
              "      <th>min</th>\n",
              "      <td>1.000000</td>\n",
              "      <td>1.000000</td>\n",
              "      <td>0.000000</td>\n",
              "    </tr>\n",
              "    <tr>\n",
              "      <th>25%</th>\n",
              "      <td>7.000000</td>\n",
              "      <td>1.000000</td>\n",
              "      <td>0.000000</td>\n",
              "    </tr>\n",
              "    <tr>\n",
              "      <th>50%</th>\n",
              "      <td>12.000000</td>\n",
              "      <td>2.000000</td>\n",
              "      <td>0.000000</td>\n",
              "    </tr>\n",
              "    <tr>\n",
              "      <th>75%</th>\n",
              "      <td>19.000000</td>\n",
              "      <td>3.000000</td>\n",
              "      <td>0.000000</td>\n",
              "    </tr>\n",
              "    <tr>\n",
              "      <th>max</th>\n",
              "      <td>39.000000</td>\n",
              "      <td>41.000000</td>\n",
              "      <td>10.000000</td>\n",
              "    </tr>\n",
              "  </tbody>\n",
              "</table>\n",
              "</div>\n",
              "      <button class=\"colab-df-convert\" onclick=\"convertToInteractive('df-f17bc76b-6ccd-4ac9-b7b0-198e497f80a3')\"\n",
              "              title=\"Convert this dataframe to an interactive table.\"\n",
              "              style=\"display:none;\">\n",
              "        \n",
              "  <svg xmlns=\"http://www.w3.org/2000/svg\" height=\"24px\"viewBox=\"0 0 24 24\"\n",
              "       width=\"24px\">\n",
              "    <path d=\"M0 0h24v24H0V0z\" fill=\"none\"/>\n",
              "    <path d=\"M18.56 5.44l.94 2.06.94-2.06 2.06-.94-2.06-.94-.94-2.06-.94 2.06-2.06.94zm-11 1L8.5 8.5l.94-2.06 2.06-.94-2.06-.94L8.5 2.5l-.94 2.06-2.06.94zm10 10l.94 2.06.94-2.06 2.06-.94-2.06-.94-.94-2.06-.94 2.06-2.06.94z\"/><path d=\"M17.41 7.96l-1.37-1.37c-.4-.4-.92-.59-1.43-.59-.52 0-1.04.2-1.43.59L10.3 9.45l-7.72 7.72c-.78.78-.78 2.05 0 2.83L4 21.41c.39.39.9.59 1.41.59.51 0 1.02-.2 1.41-.59l7.78-7.78 2.81-2.81c.8-.78.8-2.07 0-2.86zM5.41 20L4 18.59l7.72-7.72 1.47 1.35L5.41 20z\"/>\n",
              "  </svg>\n",
              "      </button>\n",
              "      \n",
              "  <style>\n",
              "    .colab-df-container {\n",
              "      display:flex;\n",
              "      flex-wrap:wrap;\n",
              "      gap: 12px;\n",
              "    }\n",
              "\n",
              "    .colab-df-convert {\n",
              "      background-color: #E8F0FE;\n",
              "      border: none;\n",
              "      border-radius: 50%;\n",
              "      cursor: pointer;\n",
              "      display: none;\n",
              "      fill: #1967D2;\n",
              "      height: 32px;\n",
              "      padding: 0 0 0 0;\n",
              "      width: 32px;\n",
              "    }\n",
              "\n",
              "    .colab-df-convert:hover {\n",
              "      background-color: #E2EBFA;\n",
              "      box-shadow: 0px 1px 2px rgba(60, 64, 67, 0.3), 0px 1px 3px 1px rgba(60, 64, 67, 0.15);\n",
              "      fill: #174EA6;\n",
              "    }\n",
              "\n",
              "    [theme=dark] .colab-df-convert {\n",
              "      background-color: #3B4455;\n",
              "      fill: #D2E3FC;\n",
              "    }\n",
              "\n",
              "    [theme=dark] .colab-df-convert:hover {\n",
              "      background-color: #434B5C;\n",
              "      box-shadow: 0px 1px 3px 1px rgba(0, 0, 0, 0.15);\n",
              "      filter: drop-shadow(0px 1px 2px rgba(0, 0, 0, 0.3));\n",
              "      fill: #FFFFFF;\n",
              "    }\n",
              "  </style>\n",
              "\n",
              "      <script>\n",
              "        const buttonEl =\n",
              "          document.querySelector('#df-f17bc76b-6ccd-4ac9-b7b0-198e497f80a3 button.colab-df-convert');\n",
              "        buttonEl.style.display =\n",
              "          google.colab.kernel.accessAllowed ? 'block' : 'none';\n",
              "\n",
              "        async function convertToInteractive(key) {\n",
              "          const element = document.querySelector('#df-f17bc76b-6ccd-4ac9-b7b0-198e497f80a3');\n",
              "          const dataTable =\n",
              "            await google.colab.kernel.invokeFunction('convertToInteractive',\n",
              "                                                     [key], {});\n",
              "          if (!dataTable) return;\n",
              "\n",
              "          const docLinkHtml = 'Like what you see? Visit the ' +\n",
              "            '<a target=\"_blank\" href=https://colab.research.google.com/notebooks/data_table.ipynb>data table notebook</a>'\n",
              "            + ' to learn more about interactive tables.';\n",
              "          element.innerHTML = '';\n",
              "          dataTable['output_type'] = 'display_data';\n",
              "          await google.colab.output.renderOutput(dataTable, element);\n",
              "          const docLink = document.createElement('div');\n",
              "          docLink.innerHTML = docLinkHtml;\n",
              "          element.appendChild(docLink);\n",
              "        }\n",
              "      </script>\n",
              "    </div>\n",
              "  </div>\n",
              "  "
            ]
          },
          "metadata": {},
          "execution_count": 117
        }
      ]
    },
    {
      "cell_type": "code",
      "source": [
        "bins = [-1, 10, 20, 30, 40, 50, 60, 70, 80, 90, 100]\n",
        "full_df['binned_age'] = pd.cut(full_df['age'], bins)"
      ],
      "metadata": {
        "id": "yCHWFMfUKTos"
      },
      "execution_count": 160,
      "outputs": []
    },
    {
      "cell_type": "code",
      "source": [
        "display(full_df.groupby('binned_age')['diag_list_length'].mean())\n",
        "display(full_df.groupby('binned_age')['proc_list_length'].mean())"
      ],
      "metadata": {
        "id": "ivxmfQMDK5VR",
        "outputId": "05186cb5-80ea-4378-9758-d366d087e33c",
        "colab": {
          "base_uri": "https://localhost:8080/",
          "height": 425
        }
      },
      "execution_count": 163,
      "outputs": [
        {
          "output_type": "display_data",
          "data": {
            "text/plain": [
              "binned_age\n",
              "(-1, 10]      5.318461\n",
              "(10, 20]      7.505128\n",
              "(20, 30]      8.991794\n",
              "(30, 40]      9.943252\n",
              "(40, 50]     12.322856\n",
              "(50, 60]     14.420868\n",
              "(60, 70]     15.779657\n",
              "(70, 80]     17.565680\n",
              "(80, 90]     18.426445\n",
              "(90, 100]    18.475158\n",
              "Name: diag_list_length, dtype: float64"
            ]
          },
          "metadata": {}
        },
        {
          "output_type": "display_data",
          "data": {
            "text/plain": [
              "binned_age\n",
              "(-1, 10]     1.805721\n",
              "(10, 20]     2.689744\n",
              "(20, 30]     2.647150\n",
              "(30, 40]     2.645683\n",
              "(40, 50]     2.892473\n",
              "(50, 60]     3.093470\n",
              "(60, 70]     3.152626\n",
              "(70, 80]     3.070971\n",
              "(80, 90]     2.726247\n",
              "(90, 100]    2.205962\n",
              "Name: proc_list_length, dtype: float64"
            ]
          },
          "metadata": {}
        }
      ]
    },
    {
      "cell_type": "code",
      "source": [
        "display(full_df.groupby('gender')['diag_list_length'].mean())\n",
        "display(full_df.groupby('gender')['proc_list_length'].mean())"
      ],
      "metadata": {
        "id": "HTBmq6txNFhF",
        "outputId": "4a8c0370-0e33-44bf-e95e-2346cc502920",
        "colab": {
          "base_uri": "https://localhost:8080/",
          "height": 153
        }
      },
      "execution_count": 164,
      "outputs": [
        {
          "output_type": "display_data",
          "data": {
            "text/plain": [
              "gender\n",
              "F    13.696428\n",
              "M    13.863910\n",
              "Name: diag_list_length, dtype: float64"
            ]
          },
          "metadata": {}
        },
        {
          "output_type": "display_data",
          "data": {
            "text/plain": [
              "gender\n",
              "F    2.773392\n",
              "M    2.852546\n",
              "Name: proc_list_length, dtype: float64"
            ]
          },
          "metadata": {}
        }
      ]
    },
    {
      "cell_type": "code",
      "source": [
        ""
      ],
      "metadata": {
        "id": "MS17kBuQNf1c"
      },
      "execution_count": null,
      "outputs": []
    }
  ]
}